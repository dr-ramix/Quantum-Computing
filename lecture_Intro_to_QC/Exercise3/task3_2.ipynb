{
 "cells": [
  {
   "cell_type": "code",
   "execution_count": 2,
   "id": "5b928eeb-6ae5-4fb6-9175-03fe3e9b40a8",
   "metadata": {},
   "outputs": [],
   "source": [
    "from qiskit import QuantumCircuit, QuantumRegister\n",
    "from qiskit.visualization import plot_histogram, plot_bloch_multivector, plot_state_qsphere, plot_coupling_map\n",
    "from qiskit.quantum_info import Statevector\n",
    "from qiskit.providers.fake_provider import GenericBackendV2\n",
    "from qiskit.compiler import transpile\n",
    "from qiskit_aer import AerSimulator\n",
    "from numpy import sqrt, array"
   ]
  },
  {
   "cell_type": "code",
   "execution_count": 3,
   "id": "00e746ef",
   "metadata": {},
   "outputs": [],
   "source": [
    "def run_circuit(circuit, num_qubits=3, coupling_map=[[0,1],[1,2],[1,0],[2,1]]):\n",
    "    device_backend = GenericBackendV2(num_qubits=num_qubits, coupling_map=coupling_map)\n",
    "    backend = AerSimulator.from_backend(device_backend)\n",
    "    result = backend.run(circuit).result()\n",
    "    count_noise = result.get_count(0)\n",
    "    return count_noise, backend\n"
   ]
  },
  {
   "cell_type": "markdown",
   "id": "baa0df59",
   "metadata": {},
   "source": [
    "# Task 3.2a)"
   ]
  },
  {
   "cell_type": "code",
   "execution_count": null,
   "id": "3ea3afb0",
   "metadata": {},
   "outputs": [
    {
     "data": {
      "text/html": [
       "<pre style=\"word-wrap: normal;white-space: pre;background: #fff0;line-height: 1.1;font-family: &quot;Courier New&quot;,Courier,monospace\">     ┌─┐\n",
       "  q: ┤M├\n",
       "     └╥┘\n",
       "c: 1/═╩═\n",
       "      0 </pre>"
      ],
      "text/plain": [
       "     ┌─┐\n",
       "  q: ┤M├\n",
       "     └╥┘\n",
       "c: 1/═╩═\n",
       "      0 "
      ]
     },
     "execution_count": 21,
     "metadata": {},
     "output_type": "execute_result"
    }
   ],
   "source": [
    "circuit = QuantumCircuit(1,1)\n",
    "circuit.measure(0,0)\n",
    "circuit.draw()\n",
    "print(circuit[0])"
   ]
  },
  {
   "cell_type": "code",
   "execution_count": null,
   "id": "8a14de38",
   "metadata": {},
   "outputs": [],
   "source": [
    "count_noise, backend = run_run_circuit(circuit)\n",
    "plot_histogram(counts_noise, title=\"\")"
   ]
  },
  {
   "cell_type": "markdown",
   "id": "39da55e5",
   "metadata": {},
   "source": [
    "# Task 3.2 b) c)"
   ]
  },
  {
   "cell_type": "code",
   "execution_count": null,
   "id": "3cc24e5c",
   "metadata": {},
   "outputs": [],
   "source": [
    "plot_coupling_map(backend.num_qubits, qubit_coordinates=None, coupling_map=backend.coupling_map.get_edges())"
   ]
  },
  {
   "cell_type": "code",
   "execution_count": null,
   "id": "7106f22e",
   "metadata": {},
   "outputs": [],
   "source": [
    "# TODO: Implement Entanglement Circuit (b: entangle qubits 0 and 2, c: entangle qubits 0,1 and 2)\n",
    "\n",
    "transpiled_circuit = transpile(circuit, backend, initial_layout= [0,1,2])\n",
    "transpiled_circuit.draw('mpl', style=\"iqp\")"
   ]
  }
 ],
 "metadata": {
  "kernelspec": {
   "display_name": ".venv",
   "language": "python",
   "name": "python3"
  },
  "language_info": {
   "codemirror_mode": {
    "name": "ipython",
    "version": 3
   },
   "file_extension": ".py",
   "mimetype": "text/x-python",
   "name": "python",
   "nbconvert_exporter": "python",
   "pygments_lexer": "ipython3",
   "version": "3.13.2"
  }
 },
 "nbformat": 4,
 "nbformat_minor": 5
}
