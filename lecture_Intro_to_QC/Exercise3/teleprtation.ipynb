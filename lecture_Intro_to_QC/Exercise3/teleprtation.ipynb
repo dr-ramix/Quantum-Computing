{
 "cells": [
  {
   "cell_type": "code",
   "execution_count": 1,
   "id": "5b928eeb-6ae5-4fb6-9175-03fe3e9b40a8",
   "metadata": {},
   "outputs": [],
   "source": [
    "from qiskit import QuantumCircuit, QuantumRegister\n",
    "from qiskit.visualization import plot_histogram, plot_bloch_multivector, plot_state_qsphere, plot_gate_map\n",
    "from qiskit.quantum_info import Statevector\n",
    "from qiskit.providers.fake_provider import GenericBackendV2\n",
    "from qiskit.compiler import transpile\n",
    "from qiskit_aer import AerSimulator\n",
    "from numpy import sqrt, array\n",
    "import graphviz\n",
    "from qiskit.visualization import plot_coupling_map\n",
    "import matplotlib.pyplot as plt"
   ]
  },
  {
   "cell_type": "code",
   "execution_count": 2,
   "id": "00e746ef",
   "metadata": {},
   "outputs": [],
   "source": [
    "def run_circuit(circuit, num_qubits=3, coupling_map=[[0,1],[1,2], [1,0], [2,1]]):\n",
    "    device_backend = GenericBackendV2(num_qubits=num_qubits, coupling_map=coupling_map)\n",
    "    backend = AerSimulator.from_backend(device_backend)\n",
    "    result = backend.run(circuit).result()\n",
    "    counts_noise = result.get_counts(0)\n",
    "    return counts_noise, backend\n"
   ]
  },
  {
   "cell_type": "code",
   "execution_count": null,
   "id": "0b530590",
   "metadata": {},
   "outputs": [],
   "source": []
  },
  {
   "cell_type": "markdown",
   "id": "baa0df59",
   "metadata": {},
   "source": [
    "# Task 3.2a)"
   ]
  },
  {
   "cell_type": "markdown",
   "id": "125190f6",
   "metadata": {},
   "source": [
    "-> QuantumCurcuit(numberOfQubits, numberOfClassicalBits) <br>\n",
    "-> x() <br>\n",
    "-> measure(qubit,bit)"
   ]
  },
  {
   "cell_type": "code",
   "execution_count": 3,
   "id": "3ea3afb0",
   "metadata": {},
   "outputs": [
    {
     "data": {
      "text/html": [
       "<pre style=\"word-wrap: normal;white-space: pre;background: #fff0;line-height: 1.1;font-family: &quot;Courier New&quot;,Courier,monospace\">     ┌───┐┌─┐\n",
       "  q: ┤ X ├┤M├\n",
       "     └───┘└╥┘\n",
       "c: 1/══════╩═\n",
       "           0 </pre>"
      ],
      "text/plain": [
       "     ┌───┐┌─┐\n",
       "  q: ┤ X ├┤M├\n",
       "     └───┘└╥┘\n",
       "c: 1/══════╩═\n",
       "           0 "
      ]
     },
     "execution_count": 3,
     "metadata": {},
     "output_type": "execute_result"
    }
   ],
   "source": [
    "circuit = QuantumCircuit(1,1)\n",
    "circuit.x(0)\n",
    "circuit.measure(0,0)\n",
    "circuit.draw()"
   ]
  },
  {
   "cell_type": "code",
   "execution_count": 4,
   "id": "8a14de38",
   "metadata": {},
   "outputs": [
    {
     "data": {
      "image/png": "[encoded data removed]",
      "text/plain": [
       "<Figure size 640x480 with 1 Axes>"
      ]
     },
     "execution_count": 4,
     "metadata": {},
     "output_type": "execute_result"
    }
   ],
   "source": [
    "counts_noise, backend = run_circuit(circuit)\n",
    "plot_histogram(counts_noise, title=\"\")"
   ]
  },
  {
   "cell_type": "markdown",
   "id": "39da55e5",
   "metadata": {},
   "source": [
    "# Task 3.2 b) c)"
   ]
  },
  {
   "cell_type": "markdown",
   "id": "4ac0528c",
   "metadata": {},
   "source": [
    "### Creating a quantum circuit and entangling the q0 and q2"
   ]
  },
  {
   "cell_type": "code",
   "execution_count": 12,
   "id": "99d02c85",
   "metadata": {},
   "outputs": [
    {
     "data": {
      "text/html": [
       "<pre style=\"word-wrap: normal;white-space: pre;background: #fff0;line-height: 1.1;font-family: &quot;Courier New&quot;,Courier,monospace\">     ┌───┐     \n",
       "q_0: ┤ H ├──■──\n",
       "     └───┘  │  \n",
       "q_1: ───────┼──\n",
       "          ┌─┴─┐\n",
       "q_2: ─────┤ X ├\n",
       "          └───┘</pre>"
      ],
      "text/plain": [
       "     ┌───┐     \n",
       "q_0: ┤ H ├──■──\n",
       "     └───┘  │  \n",
       "q_1: ───────┼──\n",
       "          ┌─┴─┐\n",
       "q_2: ─────┤ X ├\n",
       "          └───┘"
      ]
     },
     "execution_count": 12,
     "metadata": {},
     "output_type": "execute_result"
    }
   ],
   "source": [
    "qc = QuantumCircuit(3)\n",
    "qc.h(0)\n",
    "qc.cx(0,2)\n",
    "qc.draw()"
   ]
  },
  {
   "cell_type": "code",
   "execution_count": 13,
   "id": "3cc24e5c",
   "metadata": {},
   "outputs": [
    {
     "data": {
      "image/png": "[encoded data removed]",
      "text/plain": [
       "<Figure size 112.7x165.6 with 1 Axes>"
      ]
     },
     "execution_count": 13,
     "metadata": {},
     "output_type": "execute_result"
    }
   ],
   "source": [
    "plot_coupling_map(backend.num_qubits, qubit_coordinates=None, coupling_map=backend.coupling_map.get_edges())"
   ]
  },
  {
   "cell_type": "markdown",
   "id": "96109f56",
   "metadata": {},
   "source": [
    "### Entangling q0, q1 and q2"
   ]
  },
  {
   "cell_type": "code",
   "execution_count": 14,
   "id": "fa8b8e27",
   "metadata": {},
   "outputs": [
    {
     "data": {
      "text/html": [
       "<pre style=\"word-wrap: normal;white-space: pre;background: #fff0;line-height: 1.1;font-family: &quot;Courier New&quot;,Courier,monospace\">     ┌───┐               \n",
       "q_0: ┤ H ├──■────■───────\n",
       "     └───┘┌─┴─┐  │       \n",
       "q_1: ─────┤ X ├──┼────■──\n",
       "          └───┘┌─┴─┐┌─┴─┐\n",
       "q_2: ──────────┤ X ├┤ X ├\n",
       "               └───┘└───┘</pre>"
      ],
      "text/plain": [
       "     ┌───┐               \n",
       "q_0: ┤ H ├──■────■───────\n",
       "     └───┘┌─┴─┐  │       \n",
       "q_1: ─────┤ X ├──┼────■──\n",
       "          └───┘┌─┴─┐┌─┴─┐\n",
       "q_2: ──────────┤ X ├┤ X ├\n",
       "               └───┘└───┘"
      ]
     },
     "execution_count": 14,
     "metadata": {},
     "output_type": "execute_result"
    }
   ],
   "source": [
    "quantum_circuit = QuantumCircuit(3)\n",
    "quantum_circuit.h(0)\n",
    "quantum_circuit.cx(0,1)\n",
    "quantum_circuit.cx(0,2)\n",
    "quantum_circuit.cx(1,2)\n",
    "quantum_circuit.draw()"
   ]
  },
  {
   "cell_type": "code",
   "execution_count": 15,
   "id": "7106f22e",
   "metadata": {},
   "outputs": [
    {
     "data": {
      "image/png": "[encoded data removed]",
      "text/plain": [
       "<Figure size 758.234x284.278 with 1 Axes>"
      ]
     },
     "execution_count": 15,
     "metadata": {},
     "output_type": "execute_result"
    }
   ],
   "source": [
    "# TODO: Implement Entanglement Circuit (b: entangle qubits 0 and 2, c: entangle qubits 0,1 and 2)\n",
    "\n",
    "transpiled_circuit = transpile(qc, backend, initial_layout= [0,1,2])\n",
    "transpiled_circuit.draw('mpl', style=\"iqp\")"
   ]
  }
 ],
 "metadata": {
  "kernelspec": {
   "display_name": ".venv",
   "language": "python",
   "name": "python3"
  },
  "language_info": {
   "codemirror_mode": {
    "name": "ipython",
    "version": 3
   },
   "file_extension": ".py",
   "mimetype": "text/x-python",
   "name": "python",
   "nbconvert_exporter": "python",
   "pygments_lexer": "ipython3",
   "version": "3.13.2"
  }
 },
 "nbformat": 4,
 "nbformat_minor": 5
}
