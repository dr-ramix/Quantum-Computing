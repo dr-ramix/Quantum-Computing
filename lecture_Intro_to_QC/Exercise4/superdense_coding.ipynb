{
 "cells": [
  {
   "cell_type": "markdown",
   "id": "75934214",
   "metadata": {},
   "source": []
  },
  {
   "cell_type": "code",
   "execution_count": 6,
   "id": "c75cbf0c",
   "metadata": {},
   "outputs": [],
   "source": [
    "from qiskit import QuantumCircuit, QuantumRegister, ClassicalRegister\n",
    "from qiskit.visualization import plot_histogram\n",
    "from qiskit_aer.backends.aer_simulator import AerSimulator"
   ]
  },
  {
   "cell_type": "code",
   "execution_count": null,
   "id": "661a799a",
   "metadata": {},
   "outputs": [],
   "source": [
    "def quantum_circuit():\n",
    "    quantum_register = QuantumRegister(2)\n",
    "    classical_register_1 = ClassicalRegister(2)\n",
    "    classical_register_2 = ClassicalRegister(2)\n",
    "    quantum_circuit = QuantumCircuit(quantum_register,classical_register_1, classical_register_2)\n",
    "    #Bringing to the bell state\n",
    "    quantum_circuit.h(0)\n",
    "    quantum_circuit.cx(0,1)\n",
    "\n",
    "    with quantum_circuit.if_test((classical_register_1,1)):\n",
    "        quantum_circuit.x(0)\n",
    "    with quantum_circuit.if_test((classical_register_1,1)):\n",
    "        quantum_circuit.z(0)\n",
    "    \n",
    "    quantum_circuit.cx(0,1)\n",
    "    quantum_circuit.h(0)\n",
    "\n",
    "    return quantum_circuit"
   ]
  },
  {
   "cell_type": "code",
   "execution_count": 9,
   "id": "92130471",
   "metadata": {},
   "outputs": [
    {
     "data": {
      "image/png": "[encoded data removed]",
      "text/plain": [
       "<Figure size 305.727x367.889 with 1 Axes>"
      ]
     },
     "execution_count": 9,
     "metadata": {},
     "output_type": "execute_result"
    }
   ],
   "source": [
    "qc = quantum_circuit()\n",
    "\n",
    "qc.draw(\"mpl\")"
   ]
  }
 ],
 "metadata": {
  "kernelspec": {
   "display_name": ".venv",
   "language": "python",
   "name": "python3"
  },
  "language_info": {
   "codemirror_mode": {
    "name": "ipython",
    "version": 3
   },
   "file_extension": ".py",
   "mimetype": "text/x-python",
   "name": "python",
   "nbconvert_exporter": "python",
   "pygments_lexer": "ipython3",
   "version": "3.13.2"
  }
 },
 "nbformat": 4,
 "nbformat_minor": 5
}
